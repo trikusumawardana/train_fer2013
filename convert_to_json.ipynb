{
 "cells": [
  {
   "cell_type": "code",
   "execution_count": null,
   "metadata": {},
   "outputs": [],
   "source": [
    "!pip install tensorflowjs --user"
   ]
  },
  {
   "cell_type": "code",
   "execution_count": 1,
   "metadata": {
    "colab": {
     "base_uri": "https://localhost:8080/"
    },
    "id": "W5QRqfPmDL_x",
    "outputId": "54912028-f081-4bc3-f0ea-c239e7362b9b"
   },
   "outputs": [],
   "source": [
    "import tensorflowjs as tfjs\n",
    "\n",
    "# Path to Model\n",
    "saved_model_path = \"./best_model/best_model_third.h5\"\n",  
    "! tensorflowjs_converter \\\n",
    "  --input_format=keras \\\n",
    "  {saved_model_path} \\\n",
    "# Path to Output Folder\n",
    "  \"./new_model\"\n", 
    "\n"
   ]
  },
  {
   "cell_type": "code",
   "execution_count": null,
   "metadata": {},
   "outputs": [],
   "source": []
  }
 ],
 "metadata": {
  "colab": {
   "provenance": []
  },
  "kernelspec": {
   "display_name": "Python 3",
   "language": "python",
   "name": "python3"
  },
  "language_info": {
   "codemirror_mode": {
    "name": "ipython",
    "version": 3
   },
   "file_extension": ".py",
   "mimetype": "text/x-python",
   "name": "python",
   "nbconvert_exporter": "python",
   "pygments_lexer": "ipython3",
   "version": "3.7.0"
  }
 },
 "nbformat": 4,
 "nbformat_minor": 4
}
